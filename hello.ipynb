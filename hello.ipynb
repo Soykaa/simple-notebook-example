{
 "cells": [
  {
   "cell_type": "code",
   "execution_count": 2,
   "id": "ccc17df8",
   "metadata": {},
   "outputs": [],
   "source": [
    "def hello_world() -> None:\n",
    "    print('hello world!')\n",
    "    print('hi')\n",
    "    print('hell')"
   ]
  },
  {
   "cell_type": "markdown",
   "id": "8cc90a42",
   "metadata": {},
   "source": [
    "some text"
   ]
  },
  {
   "cell_type": "code",
   "execution_count": 3,
   "outputs": [],
   "source": [
    "def calc_sum(n: int) -> int:\n",
    "    sum = 0\n",
    "    for i in range(1, n):\n",
    "        sum += i\n",
    "    return sum"
   ],
   "metadata": {
    "collapsed": false
   }
  },
  {
   "cell_type": "code",
   "execution_count": 5,
   "id": "26a27538",
   "metadata": {},
   "outputs": [
    {
     "name": "stdout",
     "output_type": "stream",
     "text": [
      "45\n"
     ]
    }
   ],
   "source": [
    "print(calc_sum(10))"
   ]
  },
  {
   "cell_type": "code",
   "execution_count": null,
   "id": "e2fdc9c2",
   "metadata": {},
   "outputs": [],
   "source": []
  }
 ],
 "metadata": {
  "kernelspec": {
   "display_name": "Python 3 (ipykernel)",
   "language": "python",
   "name": "python3"
  },
  "language_info": {
   "codemirror_mode": {
    "name": "ipython",
    "version": 3
   },
   "file_extension": ".py",
   "mimetype": "text/x-python",
   "name": "python",
   "nbconvert_exporter": "python",
   "pygments_lexer": "ipython3",
   "version": "3.10.9"
  }
 },
 "nbformat": 4,
 "nbformat_minor": 5
}
